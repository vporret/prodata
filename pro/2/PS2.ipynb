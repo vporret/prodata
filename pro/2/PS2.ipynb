{
 "cells": [
  {
   "cell_type": "code",
   "execution_count": 1,
   "metadata": {},
   "outputs": [
    {
     "name": "stdout",
     "output_type": "stream",
     "text": [
      "0.013353835137035551\n",
      "0.0005770715401197444\n"
     ]
    }
   ],
   "source": [
    "#Exercise 1\n",
    "class F:\n",
    "    def __init__(self, a, w):\n",
    "        self.a = a \n",
    "        self.w = w\n",
    "        \n",
    "    def value(self, x):\n",
    "        return (e ** (-(self.a*x)))*sin(self.w*x)\n",
    "    \n",
    "\n",
    "from math import *\n",
    "f = F(a=1.0, w=0.1)\n",
    "print (f.value(x=pi))\n",
    "f.a = 2\n",
    "print (f.value(pi)) "
   ]
  },
  {
   "cell_type": "code",
   "execution_count": 2,
   "metadata": {},
   "outputs": [
    {
     "name": "stdout",
     "output_type": "stream",
     "text": [
      "a1’s balance: 13500\n",
      "John Olsson, 19371554951, balance: 13500, transactions: 3\n",
      "Liz Olsson, 19371564761, balance: 9500, transactions: 1\n"
     ]
    }
   ],
   "source": [
    "#Exercise 2\n",
    "class Account:\n",
    "    def __init__(self, name, account_number, initial_amount, transactions):\n",
    "        self.name = name\n",
    "        self.no = account_number\n",
    "        self.balance = initial_amount\n",
    "        self.transactions = transactions\n",
    "        \n",
    "    def deposit(self, amount):\n",
    "        self.balance += amount\n",
    "        self.transactions += 1\n",
    "            \n",
    "    def withdraw(self, amount):\n",
    "        self.balance -= amount\n",
    "        self.transactions += 1\n",
    "            \n",
    "    def dump(self):\n",
    "        s = '%s, %s, balance: %s, transactions: %s' % (self.name, self.no, self.balance, self.transactions)\n",
    "        print (s)\n",
    "a1 = Account(\"John Olsson\", \"19371554951\", 20000, 0)\n",
    "a2 = Account(\"Liz Olsson\", \"19371564761\", 20000, 0)\n",
    "a1.deposit(1000)\n",
    "a1.withdraw(4000)\n",
    "a2.withdraw(10500)\n",
    "a1.withdraw(3500)\n",
    "print (\"a1’s balance:\", a1.balance)\n",
    "a1.dump()\n",
    "a2.dump()"
   ]
  },
  {
   "cell_type": "code",
   "execution_count": 3,
   "metadata": {},
   "outputs": [
    {
     "name": "stdout",
     "output_type": "stream",
     "text": [
      "0.25 -1.0 1.5\n"
     ]
    }
   ],
   "source": [
    "#Exercise 3\n",
    "class Line():\n",
    "    def __init__(self, p1, p2):\n",
    "        self.p1 = p1\n",
    "        self.p2 = p2\n",
    "        \n",
    "    def value(self, x):\n",
    "        self.a = (self.p2[1]-self.p1[1])/(self.p2[0]-self.p1[0])\n",
    "        self.b = self.p1[1] -self.p1[0]*self.a\n",
    "        return self.a*x + self.b\n",
    "        \n",
    "line = Line((0,-1), (2,4))\n",
    "print (line.value(0.5), line.value(0), line.value(1))    "
   ]
  },
  {
   "cell_type": "code",
   "execution_count": 5,
   "metadata": {},
   "outputs": [],
   "source": [
    "#Exercise 4: almost done\n",
    "from math import log\n",
    "class Central():\n",
    "    def __init__(self, f, h = 0.001):\n",
    "        self.h = h\n",
    "        self.f = f\n",
    "    def df(self, x): \n",
    "        self.x = x\n",
    "        return ((self.f(self.x + self.h)-self.f(self.x - self.h))/(2*self.h))\n",
    "        \n",
    "def application_1():\n",
    "    def f(x):\n",
    "         return 0.25*x**4\n",
    "    df = Central(f)\n",
    "\n",
    "    for x in (1, 5, 10):\n",
    "        df_value = df.df(x)\n",
    "        exact = x**3\n",
    "        print(\"f’(%d)=%g (error=%.2E)\" % (x, df_value, exact-df_value))\n",
    "        \n",
    "def application_2():\n",
    "    def y(x):\n",
    "        return log(x)\n",
    "\n",
    "    for h in [0.5, 0.1, 10**(-3), 10**(-5), 10**(-7), 10**(-9), 10**(-11)]:\n",
    "        x = 10\n",
    "        dy = Central(y, h)\n",
    "        dy_value = dy.df(x)\n",
    "        exact = 1/x\n",
    "        print(\"f’(%d)=%g (error=%.2E)\" % (x, dy_value, exact-dy_value))"
   ]
  },
  {
   "cell_type": "code",
   "execution_count": 4,
   "metadata": {},
   "outputs": [
    {
     "name": "stdout",
     "output_type": "stream",
     "text": [
      "f’(1)=1 (error=-1.00E-06)\n",
      "f’(5)=125 (error=-5.00E-06)\n",
      "f’(10)=1000 (error=-1.00E-05)\n",
      "f’(10)=0.100083 (error=-8.35E-05)\n",
      "f’(10)=0.100003 (error=-3.33E-06)\n",
      "f’(10)=0.1 (error=-3.33E-10)\n",
      "f’(10)=0.1 (error=8.23E-12)\n",
      "f’(10)=0.1 (error=6.08E-10)\n",
      "f’(10)=0.1 (error=-8.27E-09)\n",
      "f’(10)=0.0999867 (error=1.33E-05)\n"
     ]
    }
   ],
   "source": [
    "#test that it works to import the exercise as modules\n",
    "import EX4\n",
    "EX4.application_1()\n",
    "EX4.application_2()"
   ]
  },
  {
   "cell_type": "code",
   "execution_count": 5,
   "metadata": {},
   "outputs": [
    {
     "name": "stdout",
     "output_type": "stream",
     "text": [
      "\n",
      "All minima: 0.8056, 1.7736, 2.7632, 3.7584, 0\n",
      "All maxima: 0.3616, 1.284, 2.2672, 3.2608, 4\n",
      "Global minimum: 3.7584\n",
      "Global maximum: 3.2608\n",
      "\n",
      "\n",
      "All minima: 1.0, 1\n",
      "All maxima: 20\n",
      "Global minimum: 1.0\n",
      "Global maximum: No Global Maximum\n",
      "\n",
      "\n",
      "All minima: 0.0, 4.712, 10.996, 17.28, 0\n",
      "All maxima: 1.572, 7.852, 14.136, 20\n",
      "Global minimum: 17.28\n",
      "Global maximum: 14.136\n",
      "\n",
      "\n",
      "All minima: 0.0, 0\n",
      "All maxima: 20\n",
      "Global minimum: 0.0\n",
      "Global maximum: No Global Maximum\n",
      "\n"
     ]
    }
   ],
   "source": [
    "#Exercise 5\n",
    "import numpy as np\n",
    "from textwrap import dedent\n",
    "\n",
    "class MinMax():\n",
    "    def __init__(self, f, a, b, n):\n",
    "        self.f = f\n",
    "        self.a = a\n",
    "        self.b = b\n",
    "        self.n = n\n",
    "        self._find_extrema()\n",
    "  \n",
    "      \n",
    "    def _find_extrema(self):\n",
    "        self.pmax = pmax = []\n",
    "        self.pmin = pmin = []\n",
    "        self.fmax = fmax = []\n",
    "        self.fmin = fmin = []\n",
    "        \n",
    "        x = (np.linspace(self.a, self.b, self.n))\n",
    "        for i, xi in enumerate(x[1:-1]):\n",
    "            if self.f(x[i-1]) < self.f(x[i]) > self.f(x[i+1]):\n",
    "                pmax.append(x[i])\n",
    "                fmax.append(self.f(x[i]))\n",
    "            elif self.f(x[i-1]) > self.f(x[i]) < self.f(x[i+1]):\n",
    "                pmin.append(x[i])\n",
    "                fmin.append(self.f(x[i]))\n",
    "        if self.f(self.a) > self.f(x[1]):\n",
    "            pmax.append(self.a)\n",
    "            fmax.append(self.f(self.a))\n",
    "        elif self.f(self.a) < self.f(x[1]):\n",
    "            pmin.append(self.a)\n",
    "            fmin.append(self.f(self.a))\n",
    "        if self.f(self.b) > self.f(x[-2]):\n",
    "            pmax.append(self.b)\n",
    "            fmax.append(self.f(self.b))\n",
    "        elif self.f(self.b) < self.f(x[-2]):\n",
    "            pmin.append(self.b)\n",
    "            fmin.append(self.f(self.b))\n",
    "    \n",
    "                                     \n",
    "    def get_global_minimum(self):\n",
    "        try:\n",
    "            pmin = list(self.pmin)\n",
    "            return max(pmin[:-1])\n",
    "        except ValueError:\n",
    "            return \"No Global Minimum\"\n",
    "    def get_global_maximum(self):\n",
    "        try:\n",
    "            pmax = list(self.pmax)\n",
    "            return max(pmax[:-1])\n",
    "        except ValueError:\n",
    "            return \"No Global Maximum\"\n",
    "    def get_all_minima(self):\n",
    "        pmin = self.pmin\n",
    "        return self.pmin\n",
    "    def get_all_maxima(self):\n",
    "        return self.pmax\n",
    "    def __str__(self): \n",
    "        min = []\n",
    "        max = []\n",
    "        for i in self.get_all_minima():\n",
    "            j = round(i, 4)\n",
    "            min.append(j)\n",
    "        for i in self.get_all_maxima():\n",
    "            j = round(i, 4)\n",
    "            max.append(j)\n",
    "        try:\n",
    "            return dedent(f\"\"\"\n",
    "            All minima: {', '.join(f'{v:}' for v in min)}\n",
    "            All maxima: {', '.join(f'{v:}' for v in max)}\n",
    "            Global minimum: {round(self.get_global_minimum(), 4)}\n",
    "            Global maximum: {round(self.get_global_maximum(), 4)}\n",
    "            \"\"\")\n",
    "        except TypeError:\n",
    "            pass\n",
    "        try:\n",
    "            return dedent(f\"\"\"\n",
    "            All minima: {', '.join(f'{v:}' for v in min)}\n",
    "            All maxima: {', '.join(f'{v:}' for v in max)}\n",
    "            Global minimum: {round(self.get_global_minimum(), 4)}\n",
    "            Global maximum: {self.get_global_maximum()}\n",
    "            \"\"\")\n",
    "        except TypeError:\n",
    "            pass\n",
    "        try:\n",
    "            return dedent(f\"\"\"\n",
    "            All minima: {', '.join(f'{v:}' for v in min)}\n",
    "            All maxima: {', '.join(f'{v:}' for v in max)}\n",
    "            Global minimum: {self.get_global_minimum()}\n",
    "            Global maximum: {round(self.get_global_maximum(), 4)}\n",
    "            \"\"\")\n",
    "        except TypeError:\n",
    "            return dedent(f\"\"\"\n",
    "            All minima: {', '.join(f'{v:}' for v in min)}\n",
    "            All maxima: {', '.join(f'{v:}' for v in max)}\n",
    "            Global minimum: {self.get_global_minimum()}\n",
    "            Global maximum: {self.get_global_maximum()}\n",
    "            \"\"\")\n",
    "        \n",
    "        \n",
    "from math import exp, sin, pi  \n",
    "def f(x):\n",
    "     return x**2*exp(-0.2*x)*sin(2*pi*x)\n",
    "def f2(x):\n",
    "     return (x+2) +1\n",
    "def f3(x):\n",
    "    return sin(x)\n",
    "def f4(x):\n",
    "    return exp(x)\n",
    "    \n",
    "m = MinMax(f, 0, 4, 5001)\n",
    "m2 = MinMax(f2, 1, 20, 5001)\n",
    "m3 = MinMax(f3, 0, 20, 5001)\n",
    "m4 = MinMax(f4, 0, 20, 5001)\n",
    "\n",
    "print(m)\n",
    "print(m2)\n",
    "print(m3)\n",
    "print(m4)"
   ]
  },
  {
   "cell_type": "code",
   "execution_count": 9,
   "metadata": {},
   "outputs": [
    {
     "name": "stderr",
     "output_type": "stream",
     "text": [
      "/opt/miniconda3/lib/python3.6/site-packages/ipykernel_launcher.py:39: RuntimeWarning: invalid value encountered in true_divide\n"
     ]
    },
    {
     "data": {
      "image/png": "[encoded data removed]",
      "text/plain": [
       "<Figure size 432x288 with 1 Axes>"
      ]
     },
     "metadata": {
      "needs_background": "light"
     },
     "output_type": "display_data"
    },
    {
     "name": "stdin",
     "output_type": "stream",
     "text": [
      "Enter values for a, b and c, separated by spaces  2 1 100\n",
      "Enter values for a, b and c, separated by spaces  5 3 80\n",
      "Enter values for a, b and c, separated by spaces  0 4 150\n",
      "Enter values for a, b and c, separated by spaces  1 0 0 \n",
      "Enter values for a, b and c, separated by spaces  0 1 0 \n"
     ]
    },
    {
     "data": {
      "image/png": "[encoded data removed]",
      "text/plain": [
       "<Figure size 432x288 with 1 Axes>"
      ]
     },
     "metadata": {
      "needs_background": "light"
     },
     "output_type": "display_data"
    },
    {
     "data": {
      "image/png": "[encoded data removed]",
      "text/plain": [
       "<Figure size 432x288 with 1 Axes>"
      ]
     },
     "metadata": {
      "needs_background": "light"
     },
     "output_type": "display_data"
    }
   ],
   "source": [
    "#Exercise 6: a\n",
    "\n",
    "\"\"\"\n",
    "#the total revenue is equal to the unit revnue of P1(x) and P2(y), minus their production costs\n",
    "#the simplified expression for revenue is:\n",
    "\n",
    "# f(x, y) = 45x + 14y = \n",
    "\"\"\"\n",
    "\n",
    "# 6: b\n",
    "\"\"\"\n",
    "For the entire exercise, P1 and P2 will be referred to as x and respectively. \n",
    "\n",
    "the production problem may be solved using the given oprimization problem as:\n",
    "1. the total amount of M1 = 100. Since the production of x requires 2 units of M1, and the production of \n",
    "y requires 1 unit of of M1, 2x + y must be less or equal to 100\n",
    "\n",
    "2. the total amount of M2 = 80. Since the production of x requires 5 units of M2, and the production of \n",
    "y requires 3 unit of of M2, 5x + 3y must be less or equal to 80\n",
    "\n",
    "3.  the total amount of M3 = 150. Since the production of x requires 0 units of M2, and the production of \n",
    "y requires 4 unit of of M2, 4y must be less or equal to 150\n",
    "\n",
    "4. since the company cannot produce negative units of x and y, their production levels have to be greater or equal to zero\n",
    "#6: c\n",
    "\"\"\"\n",
    "\n",
    "#6: c\n",
    "import numpy as np\n",
    "import matplotlib.pyplot as plt\n",
    "\n",
    "xx1 = np.arange(0,50,1)\n",
    "\n",
    "def f1(x):\n",
    "    return 100-2*x\n",
    "def f2(x):\n",
    "    return (80-5*x)/3\n",
    "def f3(x):\n",
    "    return (150*x/4)/x\n",
    "\n",
    "plt.plot(xx1, f1(xx1), xx1, f2(xx1), xx1, f3(xx1))\n",
    "plt.legend((\"2x + y <= 100\", \"5x+3y <= 80\", \"4y <= 150\"))\n",
    "plt.title(\"Maximum Production\")\n",
    "plt.fill_between(xx1, f2(xx1), alpha=0.2, color = \"b\")\n",
    "plt.ylim(0,100)\n",
    "plt.xlim(0,50)\n",
    "plt.xticks(list(range(0,51,5)))\n",
    "plt.yticks(list(range(0,101, 5)))\n",
    "plt.show()\n",
    "\n",
    "#6: d\n",
    "import optimization_a \n",
    "optimization_a.optim()\n",
    "\n",
    "#6: e\n",
    "\n",
    "func_alpha = lambda xx1, alpha: alpha/14 - 45*xx1/14\n",
    "\n",
    "plt.figure(2)\n",
    "plt.xlim(0,40)\n",
    "plt.ylim(0,45)\n",
    "for alpha in [1, 300, 500, 700, 1000]: \n",
    "    plt.plot(xx1, func_alpha(xx1, alpha), label = f\"alpha = {alpha}\" )\n",
    "plt.plot(xx1, f1(xx1), xx1, f2(xx1), xx1, f3(xx1))\n",
    "plt.legend()\n",
    "    \n",
    "plt.fill_between(xx1, f2(xx1), alpha=0.2, color = \"b\")\n",
    "\n",
    "plt.show()\n"
   ]
  },
  {
   "cell_type": "code",
   "execution_count": 7,
   "metadata": {},
   "outputs": [
    {
     "name": "stdout",
     "output_type": "stream",
     "text": [
      "t1 = 658\n",
      "t2 = 689\n",
      "t3 = 720\n"
     ]
    }
   ],
   "source": [
    "#6: f\n",
    "#test different solutions of profit\n",
    "#t1: 14 P1 + 2 P2\n",
    "#t2: 15 P1 + 1 P2\n",
    "#t3: 16 P1 + 0 P2\n",
    "\n",
    "t1 = 14*45 + 2*14\n",
    "t2 = 15*45 + 1*14\n",
    "t3 = 16*45\n",
    "\n",
    "print(\"t1 = \" + str(t1))\n",
    "print(\"t2 = \" + str(t2))\n",
    "print(\"t3 = \" + str(t3))"
   ]
  },
  {
   "cell_type": "code",
   "execution_count": null,
   "metadata": {},
   "outputs": [],
   "source": [
    "#thus, the optimal solution is t3, providing a profit of 720"
   ]
  },
  {
   "cell_type": "code",
   "execution_count": 10,
   "metadata": {},
   "outputs": [
    {
     "name": "stdout",
     "output_type": "stream",
     "text": [
      "Tim Holtwas born a canadian on 01.04.1985. He/She currently lives at 420 Pussystreet and can be reached at 1-eat-pussy. He/She currently works for pornhub, in 69 Gangbang Avenue, and can be reached at 1-800-porno when he's not too busy slaying\n",
      "Tim Holtwas born a canadian on 01.04.1985. He/She currently lives at 420 Pussystreet and can be reached at 1-eat-pussy. He/She currently works for pornhub, in 69 Gangbang Avenue, and can be reached at 1-800-porno when he's not too busy slaying. He's a scientist within:['economics', 'finance'] and uses the mehods['computational', 'theoretical']\n"
     ]
    }
   ],
   "source": [
    "#Exercise 7\n",
    "\n",
    "class Person:\n",
    "    def __init__(self, name, address, phone_number, birth, nationality):\n",
    "        self.name = name\n",
    "        self.address = address\n",
    "        self.phone_number = phone_number\n",
    "        self.birth = birth\n",
    "        self.nationality = nationality\n",
    "    def __str__(self): \n",
    "        return str(self.name) + \"was born a \" + str(self.nationality) + \" on \" + str(self.birth) + \\\n",
    "        \". He/She currently lives at \" + str(self.address) + \" and can be reached at \" + str(self.phone_number)\n",
    "    \n",
    "class Worker(Person):\n",
    "    def __init__(self, name, address, phone_number, birth, nationality, company_name, company_address, job_number):\n",
    "        super().__init__(name, address, phone_number, birth, nationality)\n",
    "        self.company_name = company_name\n",
    "        self.company_address = company_address\n",
    "        self.job_number = job_number\n",
    "    def __str__(self):\n",
    "        return super().__str__() + \\\n",
    "        \". He/She currently works for \" + str(self.company_name) +\", in \"+str(self.company_address)+ \\\n",
    "        \", and can be reached at \" + str(self.job_number) + \" when he's not too busy slaying\"\n",
    "\n",
    "class Scientist(Worker):\n",
    "    def __init__(self, name, address, phone_number, birth, nationality, company_name, company_address, \\\n",
    "                         job_number, dicipline, scientist_type):\n",
    "        super().__init__(name, address, phone_number, birth, nationality, company_name, company_address, job_number)\n",
    "        self.dicipline = dicipline\n",
    "        self.scienctist_type = scientist_type\n",
    "        \n",
    "    def __str__(self):\n",
    "         return super().__str__() +\". He's a scientist within:\" + str(self.dicipline) + \" and uses the mehods\" \\\n",
    "         + str(self.scienctist_type)\n",
    "\n",
    "class Researcher(Scientist):\n",
    "    pass\n",
    "\n",
    "class Postdoc(Scientist):\n",
    "    pass\n",
    "\n",
    "class Professor(Scientist):\n",
    "    pass\n",
    "\n",
    "\n",
    "tim = Worker(\"Tim Holt\", \"420 Pussystreet\", \"1-eat-pussy\", \"01.04.1985\", \"canadian\",\\\n",
    "             \"pornhub\", \"69 Gangbang Avenue\", \"1-800-porno\")\n",
    "print(tim)\n",
    "tim = Researcher(\"Tim Holt\", \"420 Pussystreet\", \"1-eat-pussy\", \"01.04.1985\", \"canadian\",\\\n",
    "                 \"pornhub\", \"69 Gangbang Avenue\", \"1-800-porno\", [\"economics\", \"finance\"],\\\n",
    "                 [\"computational\", \"theoretical\"])\n",
    "print(tim)"
   ]
  }
 ],
 "metadata": {
  "kernelspec": {
   "display_name": "Python 3",
   "language": "python",
   "name": "python3"
  },
  "language_info": {
   "codemirror_mode": {
    "name": "ipython",
    "version": 3
   },
   "file_extension": ".py",
   "mimetype": "text/x-python",
   "name": "python",
   "nbconvert_exporter": "python",
   "pygments_lexer": "ipython3",
   "version": "3.6.8"
  }
 },
 "nbformat": 4,
 "nbformat_minor": 2
}
