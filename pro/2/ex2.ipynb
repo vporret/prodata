{
 "cells": [
  {
   "cell_type": "code",
   "execution_count": 12,
   "metadata": {},
   "outputs": [
    {
     "name": "stdout",
     "output_type": "stream",
     "text": [
      "Sarah Connor, 123456789, balance: 8870, transactions: 5\n"
     ]
    }
   ],
   "source": [
    "%reset -f\n",
    "\n",
    "class Account:\n",
    "    def __init__(self, name, account_number, initial_amount):\n",
    "        self.name = name\n",
    "        self.no = account_number\n",
    "        self.balance = initial_amount\n",
    "        self.transaction = 0\n",
    "        \n",
    "    def deposit(self, amount):\n",
    "        self.balance += amount\n",
    "        self.transaction += 1\n",
    "        \n",
    "    def withdraw(self, amount):\n",
    "        self.balance -= amount\n",
    "        self.transaction += 1\n",
    "        \n",
    "    def dump(self):\n",
    "        s = \"%s, %s, balance: %s, transactions: %d\" % \\\n",
    "        (self.name, self.no, self.balance, self.transaction)\n",
    "        print (s)\n",
    "\n",
    "        \n",
    "a1 = Account(\"Sarah Connor\", \"123456789\", 5000)\n",
    "\n",
    "a1.deposit(42)\n",
    "a1.withdraw(50)\n",
    "a1.deposit(7800)\n",
    "a1.deposit(78)\n",
    "a1.withdraw(4000)\n",
    "  \n",
    "a1.dump()\n",
    "        \n",
    "\n"
   ]
  },
  {
   "cell_type": "code",
   "execution_count": null,
   "metadata": {},
   "outputs": [],
   "source": []
  },
  {
   "cell_type": "code",
   "execution_count": null,
   "metadata": {},
   "outputs": [],
   "source": []
  }
 ],
 "metadata": {
  "kernelspec": {
   "display_name": "Python 3",
   "language": "python",
   "name": "python3"
  },
  "language_info": {
   "codemirror_mode": {
    "name": "ipython",
    "version": 3
   },
   "file_extension": ".py",
   "mimetype": "text/x-python",
   "name": "python",
   "nbconvert_exporter": "python",
   "pygments_lexer": "ipython3",
   "version": "3.7.1"
  }
 },
 "nbformat": 4,
 "nbformat_minor": 2
}
