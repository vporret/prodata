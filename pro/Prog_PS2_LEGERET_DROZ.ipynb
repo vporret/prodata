{
 "cells": [
  {
   "cell_type": "markdown",
   "metadata": {},
   "source": [
    "# Progamming Problem Set 2\n",
    "Authors : Santi Légeret, Louis Droz"
   ]
  },
  {
   "cell_type": "markdown",
   "metadata": {},
   "source": [
    "# Exercise 1"
   ]
  },
  {
   "cell_type": "code",
   "execution_count": 1,
   "metadata": {},
   "outputs": [
    {
     "name": "stdout",
     "output_type": "stream",
     "text": [
      "0.01335383513703555\n",
      "0.0005770715401197441\n"
     ]
    }
   ],
   "source": [
    "import math \n",
    " \n",
    "class F(object):\n",
    " \n",
    "    def __init__(self, a, w): # Define the instances\n",
    "        self.a = a\n",
    "        self.w = w\n",
    " \n",
    "    def __str__(self): # Define what to print\n",
    "        return \"< Function with values a and w: \" + str(self.a) + \" \" +str(self.w) + \">\"  \n",
    " \n",
    "    def value(self, x): # Return the formula \n",
    "        return math.exp(-self.a * x) * math.sin(self.w * x)\n",
    " \n",
    "\n",
    "from math import *\n",
    "\n",
    "f = F(a=1.0, w=0.1)\n",
    "print (f.value(x=pi))\n",
    "f.a = 2\n",
    "print (f.value(pi))"
   ]
  },
  {
   "cell_type": "markdown",
   "metadata": {},
   "source": [
    "# Exercise 2"
   ]
  },
  {
   "cell_type": "code",
   "execution_count": 1,
   "metadata": {},
   "outputs": [
    {
     "name": "stdout",
     "output_type": "stream",
     "text": [
      "Account 19371554951 belongs to Jon Olsson. Its current balance is 13500 CHF, after 3 transactions this period\n",
      "Account 19371564761 belongs to Liz Olsson. Its current balance is 15100 CHF, after 2 transactions this period\n",
      "Account 19371574871 belongs to Jeremie Heitz. Its current balance is 1000000 CHF, after 2 transactions this period\n"
     ]
    }
   ],
   "source": [
    "class Account:\n",
    "\n",
    "    def __init__(self, name, account_number, initial_amount, transactions):\n",
    "        self.name = name\n",
    "        self.no = account_number\n",
    "        self.balance = initial_amount\n",
    "        self.transactions = transactions\n",
    "\n",
    "    def deposit(self, amount):\n",
    "        self.balance += amount\n",
    "        self.transactions += 1\n",
    "\n",
    "    def withdraw(self, amount):\n",
    "        self.balance -= amount\n",
    "        self.transactions += 1\n",
    "\n",
    "    def dump(self):\n",
    "        s = \"Account %s belongs to %s. Its current balance is %s CHF, after %s transactions this \\\n",
    "period\" % (self.no, self.name, self.balance, self.transactions)\n",
    "        print(s)\n",
    "\n",
    "\n",
    "a1 = Account(\"Jon Olsson\", \"19371554951\", 20000, 0)\n",
    "a2 = Account(\"Liz Olsson\", \"19371564761\", 20000, 0)\n",
    "a3 = Account(\"Jeremie Heitz\", \"19371574871\", 60000, 0)\n",
    "a1.deposit(1000)\n",
    "a1.withdraw(4000)\n",
    "a2.withdraw(10500)\n",
    "a1.withdraw(3500)\n",
    "a2.deposit(5600)\n",
    "a3.withdraw(60000)\n",
    "a3.deposit(1000000)\n",
    "\n",
    "a1.dump()\n",
    "a2.dump()\n",
    "a3.dump()"
   ]
  },
  {
   "cell_type": "markdown",
   "metadata": {},
   "source": [
    "# Exercise 3"
   ]
  },
  {
   "cell_type": "code",
   "execution_count": 2,
   "metadata": {},
   "outputs": [
    {
     "name": "stdout",
     "output_type": "stream",
     "text": [
      "0.25 -1.0 1.5\n"
     ]
    }
   ],
   "source": [
    "class Line(object):\n",
    "\n",
    "    def __init__(self, p1, p2): # Define instances \n",
    "        x0, y0 = p1 # Define what composes p1 and p2 \n",
    "        x1, y1 = p2\n",
    "        self.a = float(y1 - y0)/(x1 - x0) # Implement formula to calculate a\n",
    "        self.b = float(x1 * y0 - x0 * y1)/(x1 - x0) # Implement formula to calculate b\n",
    "    \n",
    "    def value(self, x):\n",
    "        return self.a * x + self.b # Return the value according to a and b\n",
    "\n",
    "        \n",
    "line = Line((0,-1), (2,4))\n",
    "print (line.value(0.5), line.value(0), line.value(1))"
   ]
  },
  {
   "cell_type": "markdown",
   "metadata": {},
   "source": [
    "# Exercise 4\n",
    "This exercise uses python 2 syntax."
   ]
  },
  {
   "cell_type": "code",
   "execution_count": 1,
   "metadata": {},
   "outputs": [
    {
     "name": "stdin",
     "output_type": "stream",
     "text": [
      "Enter your desired value for x:  4\n"
     ]
    },
    {
     "name": "stdout",
     "output_type": "stream",
     "text": [
      "For function log(x) and an x = 4\n",
      "('Increment', 'Estimate deriv.', 'Exact deriv.')\n",
      "       0.5     0.2513144              0.25\n",
      "       0.1     0.2500521              0.25\n",
      "     0.001     0.2500000              0.25\n",
      "     1e-05     0.2500000              0.25\n",
      "     1e-07     0.2500000              0.25\n",
      "     1e-09     0.2500000              0.25\n",
      "     1e-11     0.2500000              0.25\n"
     ]
    }
   ],
   "source": [
    "from math import log\n",
    "\n",
    "\n",
    "def f(x):\n",
    "    return 0.25*x**4 # This is only the test function\n",
    "\n",
    "\n",
    "class Central: # Initiate the class Central\n",
    "\n",
    "    def __init__(self, function, increment):\n",
    "        self.f = function\n",
    "        self.increment = increment\n",
    "\n",
    "    def __call__(self, var):  # Need to use __call__ in order for the instance to be used as function\n",
    "        h = self.increment\n",
    "        f = self.f  # name the function, within the derivative method, not before\n",
    "        numerator = f(var + h) - f(var - h)\n",
    "        denominator = float(2 * h)\n",
    "        der = numerator / denominator\n",
    "        return der\n",
    "\n",
    "\n",
    "def test(): # snippet of the code provided in the exercise\n",
    "    testies = [1, 5, 10]\n",
    "    for i in testies:\n",
    "        dff = Central(f, 1E-9)\n",
    "        dff_estim = dff(i)\n",
    "        dff_real = i**3\n",
    "        print(i, dff_estim, dff_real)\n",
    "\n",
    "\n",
    "def derivative():\n",
    "    h = [0.5, 0.1, 1E-3, 1E-5, 1E-7, 1E-9, 1E-11]\n",
    "    var = input(\"Enter your desired value for x: \")\n",
    "    print(\"For function log(x) and an x = %s\" % var)\n",
    "    print(\"Increment\", \"Estimate deriv.\", \"Exact deriv.\")  # allows for spaces definition for our table to look nice\n",
    "    for i in h: # this will allow to evaluate the derivative for different increments (h)\n",
    "        df = Central(log, i)  # call the class\n",
    "        df_estim = df(var)  # use the class with the defined variable\n",
    "        df_real = (1.0 / var)  # the real derivative computed \"by hand\"\n",
    "        print(\"%10g    %10.7f        %10.2f\") % (i, df_estim, df_real)  # space definition and decimals setting for floats\n",
    "\n",
    "\n",
    "if __name__ == \"__main__\":  # this line allows for our module to be used in another script without printing \\\n",
    "                            # the derivative function\n",
    "    derivative()"
   ]
  },
  {
   "cell_type": "markdown",
   "metadata": {},
   "source": [
    "# Exercise 5"
   ]
  },
  {
   "cell_type": "code",
   "execution_count": 4,
   "metadata": {},
   "outputs": [
    {
     "name": "stdout",
     "output_type": "stream",
     "text": [
      "\n",
      "All minima: 0.8056, 0.0000, 1.7736, 2.7632, 3.7584\n",
      "All maxima: 0.3616, 1.2840, 2.2672, 3.2608, 4.0000\n",
      "Global minimum: 3.7584\n",
      "Global maximum: 3.2608\n",
      "\n"
     ]
    }
   ],
   "source": [
    "# Exercise 5\n",
    "\n",
    "import numpy as np\n",
    "import math \n",
    "    \n",
    "class MinMax(object):\n",
    "    \n",
    "    def __init__(self, f, a, b, n): # Define instances\n",
    "        self.f = f\n",
    "        self.a = a\n",
    "        self.b = b\n",
    "        self.n = n\n",
    "        self.extrema()\n",
    "        \n",
    "    def extrema(self): # Define the function to calculate the extremas\n",
    "        f = self.f\n",
    "        a = self.a\n",
    "        b = self.b\n",
    "        self.Pmin = Pmin = [] # Create empty lists to put the exetemas in\n",
    "        self.Pmax = Pmax = []\n",
    "        self.Fmin = Fmin = []\n",
    "        self.Fmax = Fmax = []\n",
    "        \n",
    "        x = np.linspace(a, b, self.n)\n",
    "        for i, xi in enumerate(x[1:-1]): # Implement formula to find Max or min\n",
    "            if f(x[i]) < f(xi) > f(x[i + 2]):\n",
    "                Pmax.append(xi) # Append formulas with Max or min both the local and global\n",
    "                Fmax.append(f(xi))\n",
    "            elif f(x[i]) > f(xi) < f(x[i + 2]):\n",
    "                Pmin.append(xi)\n",
    "                Fmin.append(f(xi))                \n",
    "        if f(a) > f(x[1]):\n",
    "            Pmax.insert(1, a) # Set up max and min limits\n",
    "            Fmax.insert(1, f(a))\n",
    "        elif f(a) < f(x[1]):\n",
    "            Pmin.insert(1, a)\n",
    "            Fmin.insert(1, f(a))\n",
    "        if f(b) > f(x[-2]):\n",
    "            Pmax.append(b)\n",
    "            Fmax.append(f(b))\n",
    "        elif f(b) < f(x[-2]):\n",
    "            Pmin.append(b)\n",
    "            Fmin.append(f(b))\n",
    "                    \n",
    "    \n",
    "    def get_global_minimum(self): # Return the second global min and max because the first is the limit\n",
    "        return min(self.get_all_minima(), key=lambda t: t[1])\n",
    "            \n",
    "    def get_global_maximum(self):\n",
    "        return max(self.get_all_maxima(), key=lambda t: t[1])\n",
    "    \n",
    "    def get_all_minima(self): # Put the values in a dictionnary \n",
    "        return [(x, y) for x, y in zip(self.Pmin, self.Fmin)]\n",
    "    \n",
    "    def get_all_maxima(self):\n",
    "        return [(x, y) for x, y in zip(self.Pmax, self.Fmax)]\n",
    "    \n",
    "    def __str__(self): # Print the results\n",
    "        from textwrap import dedent as dd\n",
    "        return dd(f\"\"\"\n",
    "        All minima: {', '.join(f'{p:.4f}' for p, v in self.get_all_minima())}\n",
    "        All maxima: {', '.join(f'{p:.4f}' for p, v in self.get_all_maxima())}\n",
    "        Global minimum: {self.get_global_minimum()[0]}\n",
    "        Global maximum: {self.get_global_maximum()[0]}\n",
    "        \"\"\")\n",
    "\n",
    "def f(x):\n",
    "     return x**2*math.exp(-0.2*x)*math.sin(2*math.pi*x)\n",
    "m = MinMax(f, 0, 4, 5001)\n",
    "print (m)"
   ]
  },
  {
   "cell_type": "markdown",
   "metadata": {},
   "source": [
    "# Exercise 6"
   ]
  },
  {
   "cell_type": "markdown",
   "metadata": {},
   "source": [
    "## Question a) & b)"
   ]
  },
  {
   "cell_type": "code",
   "execution_count": 8,
   "metadata": {},
   "outputs": [
    {
     "name": "stdout",
     "output_type": "stream",
     "text": [
      "The simplified form of the Gross Margin equation is 45*x + 14*y \n"
     ]
    }
   ],
   "source": [
    "\"\"\" Question a\n",
    "This expression is basically the revenue per product P1 (i.e: x) and P2 (i.e: y), in numerical terms: 150 (price of P1)\n",
    "* x & 175 (price of P2) * y.\n",
    "We then reduce the said revenue by the total costs (raw materials) incurred by each product\n",
    "multiplied by the quantity produced, in numerical terms:\n",
    "\n",
    "[10 (cost of M1) * 2 (units of M1 needed for P1) + 17 (cost of M2)* 5 (units of M2 needed for P1)] * x\n",
    "&\n",
    "[10 (cost of M1) * 1 (units of M1 needed for P2) + 17 (cost of M2) * 3 (units of M2 needed for P2) + 25 (cost of M3)\n",
    " * 4 (units of M3 need for P2) * y\n",
    "\n",
    "The simplified function comes down to:\n",
    " \"\"\"\n",
    "from sympy import *\n",
    "import numpy as np\n",
    "\n",
    "\n",
    "\n",
    "x = Symbol(\"x\")\n",
    "P1_rev = 150 * x\n",
    "P1_cost = (20 + 17 * 5) * x\n",
    "P1_gross = P1_rev - P1_cost\n",
    "\n",
    "y = Symbol(\"y\")\n",
    "P2_rev = 175 * y\n",
    "P2_cost = (10 + 17 * 3 + 25 * 4) * y\n",
    "P2_gross = P2_rev - P2_cost\n",
    "\n",
    "simplif = P1_gross + P2_gross\n",
    "print(\"The simplified form of the Gross Margin equation is %s \" % simplif)\n",
    "\n",
    "\"\"\" Question b\n",
    "This is a classic optimization problem with inequality constrains. The constrains are defined by the exercise, namely:\n",
    "- There is only 100 units of M1 available, while  1 unit of P1 (x) and P2 (y) require respectively 2 and 1 units of M1\n",
    "- There is only 80 units of M1 available, while 1 unit of P1 (x) and P2 (y) require respectively 5 and 3 units of M1\n",
    "- There is only 150 units of M3 available, while 1 unit of P2 (y) require 4 units of M1\n",
    "- Finally last constrains are obtained because both P1 and P2 cannot be produced (x or y = 0) shall that serve the bottom\n",
    "line, or are being produced (> 0) but in no cases can take negative values\"\"\"\n",
    "\n"
   ]
  },
  {
   "cell_type": "markdown",
   "metadata": {},
   "source": [
    "## Question c)"
   ]
  },
  {
   "cell_type": "code",
   "execution_count": null,
   "metadata": {},
   "outputs": [],
   "source": [
    "%reset -f\n",
    "\n",
    "import numpy as np\n",
    "import matplotlib.pyplot as plt\n",
    "\n",
    "var1 = np.arange(0, 50, 1)\n",
    "var2 = np.arange(0,80/5,1)\n",
    "\n",
    "def f(x): \n",
    "    return (100 - 2*x)\n",
    "def f2(x):\n",
    "    return ((80-5*x)/3)\n",
    "def f3(x): \n",
    "    return ((x*150/4)/x)\n",
    "\n",
    "plt.figure(0)\n",
    "plt.plot(var1, f(var1), var2, f2(var2), var, f3(var))\n",
    "plt.legend(('2x + y <= 100', '5x + 3y <= 80', '4y <= 150'),\n",
    "           loc='lower right')\n",
    "plt.title(\"Production Threshold\")\n",
    "plt.xlim(0,44)\n",
    "plt.ylim(0,50)\n",
    "plt.fill_between(var2, f2(var2), alpha=0.5, color = \"r\")\n",
    "plt.show()"
   ]
  },
  {
   "cell_type": "markdown",
   "metadata": {},
   "source": [
    "## Question d)"
   ]
  },
  {
   "cell_type": "code",
   "execution_count": null,
   "metadata": {},
   "outputs": [],
   "source": [
    "import optimization_a \n",
    "\n",
    "ineq1 = [2,1,100]\n",
    "ineq2 = [5,3,80]\n",
    "ineq3 = [0, 4, 150]\n",
    "ineq4 = [1,0,0]\n",
    "ineq5 = [0,1,0]\n",
    "\n",
    "optimization_a.optim(ineq1, ineq2, ineq3, ineq4, ineq5)"
   ]
  },
  {
   "cell_type": "markdown",
   "metadata": {},
   "source": [
    "## Question e)"
   ]
  },
  {
   "cell_type": "code",
   "execution_count": null,
   "metadata": {},
   "outputs": [],
   "source": [
    "from matplotlib.offsetbox import (TextArea, DrawingArea, OffsetImage,\n",
    "                                  AnnotationBbox)\n",
    "x = np.linspace(0, 20, 1000)\n",
    "func_alpha = lambda x, alpha: alpha/14 - 45*x/14\n",
    "\n",
    "plt.figure(2)\n",
    "plt.xlim(0,40)\n",
    "plt.ylim(0,45)\n",
    "for alpha in [1, 300, 500, 700, 1000]: \n",
    "    plt.plot(x, func_alpha(x, alpha), label = f\"alpha = {alpha}\" )\n",
    "plt.plot(var, f(var), var2, f2(var2), var, f3(var))\n",
    "plt.legend()\n",
    "    \n",
    "plt.fill_between(var2, f2(var2), alpha=0.5, color = \"b\")\n",
    "\n",
    "\n",
    "plt.show()"
   ]
  },
  {
   "cell_type": "code",
   "execution_count": null,
   "metadata": {},
   "outputs": [],
   "source": [
    "# The geometrical observation renders\n",
    "\n",
    "# i) \n",
    "\n",
    "\n",
    "pi = 14*45 + 14*1\n",
    "print(\"Uno =   \",pi)\n",
    "\n",
    "\n",
    "# ii ) \n",
    "\n",
    "pi2 = 15*45 + 14*1\n",
    "print(\"Due =  \",pi2)\n",
    "\n",
    "# iii ) \n",
    "\n",
    "pi3 = 16*45 + 14*0\n",
    "print(\"Tre = \",profit3)"
   ]
  },
  {
   "cell_type": "markdown",
   "metadata": {},
   "source": [
    "# Exercise 7"
   ]
  },
  {
   "cell_type": "code",
   "execution_count": 5,
   "metadata": {},
   "outputs": [
    {
     "name": "stdout",
     "output_type": "stream",
     "text": [
      "Jack lives Rue du bourg 7, 1007 Lausanne,  his phone number is 0789035467, he was born on the 12/12/1990 and is Swiss\n",
      "Jack works at UNIL located Ch. Frange 10, 1007 Lausanne and his professional phone number is 07790943\n",
      "Jack works in the discipline of Physics as a Theoritical scientific\n",
      "Jack works in the discipline of Physics as a Theoritical scientific\n",
      "Jack works in the discipline of Physics as a Theoritical scientific\n",
      "Jack works in the discipline of Physics as a Theoritical scientific\n",
      "['__class__', '__delattr__', '__dict__', '__dir__', '__doc__', '__eq__', '__format__', '__ge__', '__getattribute__', '__gt__', '__hash__', '__init__', '__init_subclass__', '__le__', '__lt__', '__module__', '__ne__', '__new__', '__reduce__', '__reduce_ex__', '__repr__', '__setattr__', '__sizeof__', '__str__', '__subclasshook__', '__weakref__', 'address', 'birthdate', 'getAdress', 'getBirthdate', 'getName', 'getNationality', 'getPhone_number', 'name', 'nationality', 'phone_number']\n",
      "['__class__', '__delattr__', '__dict__', '__dir__', '__doc__', '__eq__', '__format__', '__ge__', '__getattribute__', '__gt__', '__hash__', '__init__', '__init_subclass__', '__le__', '__lt__', '__module__', '__ne__', '__new__', '__reduce__', '__reduce_ex__', '__repr__', '__setattr__', '__sizeof__', '__str__', '__subclasshook__', '__weakref__', 'address', 'birthdate', 'company_address', 'getAdress', 'getBirthdate', 'getCompany_address', 'getJobphone_number', 'getName', 'getName_company', 'getNationality', 'getPhone_number', 'jobphone_number', 'name', 'name_company', 'nationality', 'phone_number']\n",
      "['__class__', '__delattr__', '__dict__', '__dir__', '__doc__', '__eq__', '__format__', '__ge__', '__getattribute__', '__gt__', '__hash__', '__init__', '__init_subclass__', '__le__', '__lt__', '__module__', '__ne__', '__new__', '__reduce__', '__reduce_ex__', '__repr__', '__setattr__', '__sizeof__', '__str__', '__subclasshook__', '__weakref__', 'address', 'birthdate', 'company_address', 'discipline', 'field', 'getAdress', 'getBirthdate', 'getCompany_address', 'getDiscipline', 'getField', 'getJobphone_number', 'getName', 'getName_company', 'getNationality', 'getPhone_number', 'jobphone_number', 'name', 'name_company', 'nationality', 'phone_number']\n",
      "['__class__', '__delattr__', '__dict__', '__dir__', '__doc__', '__eq__', '__format__', '__ge__', '__getattribute__', '__gt__', '__hash__', '__init__', '__init_subclass__', '__le__', '__lt__', '__module__', '__ne__', '__new__', '__reduce__', '__reduce_ex__', '__repr__', '__setattr__', '__sizeof__', '__str__', '__subclasshook__', '__weakref__', 'address', 'birthdate', 'company_address', 'discipline', 'field', 'getAdress', 'getBirthdate', 'getCompany_address', 'getDiscipline', 'getField', 'getJobphone_number', 'getName', 'getName_company', 'getNationality', 'getPhone_number', 'jobphone_number', 'name', 'name_company', 'nationality', 'phone_number']\n",
      "['__class__', '__delattr__', '__dict__', '__dir__', '__doc__', '__eq__', '__format__', '__ge__', '__getattribute__', '__gt__', '__hash__', '__init__', '__init_subclass__', '__le__', '__lt__', '__module__', '__ne__', '__new__', '__reduce__', '__reduce_ex__', '__repr__', '__setattr__', '__sizeof__', '__str__', '__subclasshook__', '__weakref__', 'address', 'birthdate', 'company_address', 'discipline', 'field', 'getAdress', 'getBirthdate', 'getCompany_address', 'getDiscipline', 'getField', 'getJobphone_number', 'getName', 'getName_company', 'getNationality', 'getPhone_number', 'jobphone_number', 'name', 'name_company', 'nationality', 'phone_number']\n",
      "['__class__', '__delattr__', '__dict__', '__dir__', '__doc__', '__eq__', '__format__', '__ge__', '__getattribute__', '__gt__', '__hash__', '__init__', '__init_subclass__', '__le__', '__lt__', '__module__', '__ne__', '__new__', '__reduce__', '__reduce_ex__', '__repr__', '__setattr__', '__sizeof__', '__str__', '__subclasshook__', '__weakref__', 'address', 'birthdate', 'company_address', 'discipline', 'field', 'getAdress', 'getBirthdate', 'getCompany_address', 'getDiscipline', 'getField', 'getJobphone_number', 'getName', 'getName_company', 'getNationality', 'getPhone_number', 'jobphone_number', 'name', 'name_company', 'nationality', 'phone_number']\n"
     ]
    }
   ],
   "source": [
    "class Person(object): # Define First class\n",
    "    \n",
    "    def __init__(self, name, address, phone_number, birthdate, nationality):\n",
    "        self.name = name\n",
    "        self.address = address\n",
    "        self.phone_number = phone_number\n",
    "        self.birthdate = birthdate\n",
    "        self.nationality = nationality\n",
    "    \n",
    "    def getName(self):\n",
    "        return self.name\n",
    "    \n",
    "    def getAdress(self):\n",
    "        return self.address\n",
    "    \n",
    "    def getPhone_number(self):\n",
    "        return self.phone_number\n",
    "    \n",
    "    def getBirthdate(self):\n",
    "        return self.birthdate\n",
    "    \n",
    "    def getNationality(self):\n",
    "        return self.nationality\n",
    "    \n",
    "    def __str__(self):\n",
    "        return \"%s lives %s,  his phone number is %s, he was born on the %s and is %s\" %(self.name, self.address, self.phone_number, self.birthdate, self.nationality)\n",
    "    \n",
    "class Worker(Person): # Define Sub-Class\n",
    "    \n",
    "    def __init__(self, name, address, phone_number, birthdate, nationality, name_company, company_address, jobphone_number):\n",
    "        Person.__init__(self, name, address, phone_number, birthdate, nationality)\n",
    "        self.name_company = name_company\n",
    "        self.company_address = company_address\n",
    "        self.jobphone_number = jobphone_number\n",
    "        \n",
    "    def getName_company(self):\n",
    "        return self.name_company\n",
    "    \n",
    "    def getCompany_address(self):\n",
    "        return self.company_address\n",
    "    \n",
    "    def getJobphone_number(self):\n",
    "        return self.jobphone_number\n",
    "    \n",
    "    def __str__(self):\n",
    "        return \"%s works at %s located %s and his professional phone number is %s\" %(self.name, self.name_company, self.company_address, self.jobphone_number)\n",
    "\n",
    "class Scientist(Worker): # Define Subsub-Class\n",
    "    \n",
    "    def __init__(self, name, address, phone_number, birthdate, nationality, name_company, company_address, jobphone_number, discipline, field):\n",
    "        Worker.__init__(self, name, address, phone_number, birthdate, nationality, name_company, company_address, jobphone_number)\n",
    "        self.discipline = discipline\n",
    "        self.field = field\n",
    "        \n",
    "    def getDiscipline(self):\n",
    "        return self.discipline\n",
    "    \n",
    "    def getField(self): # Loop to have the choice between 3 different type of fields\n",
    "        field = [\"Theoritical\", \"Experimental\", \"Computational\"]\n",
    "        for items in field:\n",
    "            if items == items in self.field:\n",
    "                return items\n",
    "    \n",
    "    def __str__(self):\n",
    "        return \"%s works in the discipline of %s as a %s scientific\" %(self.name, self.discipline, self.field)\n",
    "    \n",
    "class Researcher(Scientist):\n",
    "    pass\n",
    "    \n",
    "class Postdoc(Scientist):\n",
    "    pass\n",
    "\n",
    "class Professor(Scientist):\n",
    "    pass\n",
    "\n",
    "\n",
    "Jack1 = Person(\"Jack\", \"Rue du bourg 7, 1007 Lausanne\", \"0789035467\", \"12/12/1990\", \"Swiss\")\n",
    "Jack2 = Worker(\"Jack\", \"Rue du bourg 7, 1007 Lausanne\", \"0789035467\", \"12/12/1990\", \"Swiss\", \"UNIL\", \"Ch. Frange 10, 1007 Lausanne\", \"07790943\")\n",
    "Jack3 = Postdoc(\"Jack\", \"Rue du bourg 7, 1007 Lausanne\", \"0789035467\", \"12/12/1990\", \"Swiss\", \"UNIL\", \"Ch. Frange 10, 1007 Lausanne\", \"07790943\",\"Physics\",\"Theoritical\")\n",
    "Jack4 = Professor( \"Jack\", \"Rue du bourg 7, 1007 Lausanne\", \"0789035467\", \"12/12/1990\", \"Swiss\", \"UNIL\", \"Ch. Frange 10, 1007 Lausanne\", \"07790943\",\"Physics\",\"Theoritical\")\n",
    "Jack5 = Scientist(\"Jack\", \"Rue du bourg 7, 1007 Lausanne\", \"0789035467\", \"12/12/1990\", \"Swiss\", \"UNIL\", \"Ch. Frange 10, 1007 Lausanne\", \"07790943\",\"Physics\",\"Theoritical\")\n",
    "Jack6 = Researcher( \"Jack\", \"Rue du bourg 7, 1007 Lausanne\", \"0789035467\", \"12/12/1990\", \"Swiss\", \"UNIL\", \"Ch. Frange 10, 1007 Lausanne\", \"07790943\",\"Physics\",\"Theoritical\")\n",
    "\n",
    "\n",
    "print(Jack1)\n",
    "print(Jack2)\n",
    "print(Jack3)\n",
    "print(Jack4)\n",
    "print(Jack5)\n",
    "print(Jack6)\n",
    "\n",
    "\n",
    "print(dir(Jack1))\n",
    "print(dir(Jack2))\n",
    "print(dir(Jack3))\n",
    "print(dir(Jack4))\n",
    "print(dir(Jack5))\n",
    "print(dir(Jack6))\n"
   ]
  },
  {
   "cell_type": "markdown",
   "metadata": {},
   "source": [
    "### Please find C++ exercises in the submitted zip file"
   ]
  }
 ],
 "metadata": {
  "kernelspec": {
   "display_name": "Python 3",
   "language": "python",
   "name": "python3"
  },
  "language_info": {
   "codemirror_mode": {
    "name": "ipython",
    "version": 3
   },
   "file_extension": ".py",
   "mimetype": "text/x-python",
   "name": "python",
   "nbconvert_exporter": "python",
   "pygments_lexer": "ipython3",
   "version": "3.7.1"
  }
 },
 "nbformat": 4,
 "nbformat_minor": 2
}
