{
 "cells": [
  {
   "cell_type": "code",
   "execution_count": 2,
   "metadata": {},
   "outputs": [
    {
     "name": "stdout",
     "output_type": "stream",
     "text": [
      "Enter a number X2\n",
      "Enter a number Y3\n",
      "8\n",
      "1.0\n"
     ]
    }
   ],
   "source": [
    "#1\n",
    "\n",
    "import math\n",
    "\n",
    "X=int(input('Enter a number X'))\n",
    "Y=int(input('Enter a number Y'))\n",
    "print(X**Y)\n",
    "print(math.log(X, 2))\n"
   ]
  },
  {
   "cell_type": "code",
   "execution_count": 3,
   "metadata": {},
   "outputs": [
    {
     "name": "stdout",
     "output_type": "stream",
     "text": [
      "Insert length in meters:2\n",
      "2 meters equals 78.74 inches\n",
      "2 meters equals 6.56 feet\n",
      "2 meters equals 2.19 yards\n",
      "2 meters equals 0.0012 miles\n"
     ]
    }
   ],
   "source": [
    "# Ex.2\n",
    "\n",
    "length=int(input('Insert length in meters:'))\n",
    "length_inch=length/0.0254\n",
    "length_foot=length_inch/12\n",
    "length_yard=length_foot/3\n",
    "length_mile=length_yard/1760\n",
    "print(length, 'meters equals', round(length_inch, 2), 'inches')\n",
    "print(length, 'meters equals', round(length_foot, 2), 'feet')\n",
    "print(length, 'meters equals', round(length_yard, 2), 'yards')\n",
    "print(length, 'meters equals', round(length_mile, 4), 'miles')"
   ]
  },
  {
   "cell_type": "code",
   "execution_count": 4,
   "metadata": {},
   "outputs": [
    {
     "name": "stdout",
     "output_type": "stream",
     "text": [
      "Insert amount invested in CHF: 1000\n",
      "Insert given interest rate in percentage: 3\n",
      "Insert number of investment years: 5\n",
      "  An initial investment of 1000 CHF at 3 % during 5 years results in 1159.27 CHF\n"
     ]
    }
   ],
   "source": [
    "# Ex.3\n",
    "\n",
    "investment=int(input('Insert amount invested in CHF: '))\n",
    "interestrate=int(input('Insert given interest rate in percentage: '))\n",
    "years=int(input('Insert number of investment years: '))\n",
    "capital=investment*(1+interestrate/100)**years\n",
    "print('  An initial investment of',investment,'CHF at',interestrate,'% during',years,'years results in',round(capital,2),'CHF')"
   ]
  },
  {
   "cell_type": "code",
   "execution_count": 7,
   "metadata": {},
   "outputs": [
    {
     "name": "stdout",
     "output_type": "stream",
     "text": [
      "1.0\n",
      "5.0\n"
     ]
    }
   ],
   "source": [
    "# Ex 4.1\n",
    "\n",
    "from math import sin, cos, pi  # need to import pi\n",
    "x = pi/4\n",
    "val = sin(x)**2 + cos(x)**2 # Variable names must start either with a letter\n",
    "                            # or an underscore. The power was at the wrong\n",
    "                            # location and wrongly codified\n",
    "print (val)  # Cap letters do matter in and thus the value is not defined\n",
    "\n",
    "# Ex 4.2\n",
    "\n",
    "v0 = 3 # no need to include the measure\n",
    "t= 1  # no need to include the measure\n",
    "a = 2**2  # no need to include the measure\n",
    "s = v0*t + 1/2*a*t**2  # The multiplication character was forgotten\n",
    "print (s)"
   ]
  },
  {
   "cell_type": "code",
   "execution_count": 15,
   "metadata": {},
   "outputs": [
    {
     "ename": "ValueError",
     "evalue": "math domain error",
     "output_type": "error",
     "traceback": [
      "\u001b[0;31m---------------------------------------------------------------------------\u001b[0m",
      "\u001b[0;31mValueError\u001b[0m                                Traceback (most recent call last)",
      "\u001b[0;32m<ipython-input-15-72bc1dbeb1d8>\u001b[0m in \u001b[0;36m<module>\u001b[0;34m\u001b[0m\n\u001b[1;32m      3\u001b[0m \u001b[0ma\u001b[0m \u001b[0;34m=\u001b[0m \u001b[0;36m2\u001b[0m\u001b[0;34m;\u001b[0m \u001b[0mb\u001b[0m \u001b[0;34m=\u001b[0m \u001b[0;36m1\u001b[0m\u001b[0;34m;\u001b[0m \u001b[0mc\u001b[0m \u001b[0;34m=\u001b[0m \u001b[0;36m2\u001b[0m\u001b[0;34m\u001b[0m\u001b[0;34m\u001b[0m\u001b[0m\n\u001b[1;32m      4\u001b[0m \u001b[0;32mfrom\u001b[0m \u001b[0mmath\u001b[0m \u001b[0;32mimport\u001b[0m \u001b[0msqrt\u001b[0m\u001b[0;34m\u001b[0m\u001b[0;34m\u001b[0m\u001b[0m\n\u001b[0;32m----> 5\u001b[0;31m \u001b[0mq\u001b[0m \u001b[0;34m=\u001b[0m \u001b[0msqrt\u001b[0m\u001b[0;34m(\u001b[0m\u001b[0mb\u001b[0m\u001b[0;34m*\u001b[0m\u001b[0mb\u001b[0m \u001b[0;34m-\u001b[0m \u001b[0;36m4\u001b[0m\u001b[0;34m*\u001b[0m\u001b[0ma\u001b[0m\u001b[0;34m*\u001b[0m\u001b[0mc\u001b[0m\u001b[0;34m)\u001b[0m  \u001b[0;31m# The figure under the square root is a\u001b[0m\u001b[0;34m\u001b[0m\u001b[0;34m\u001b[0m\u001b[0m\n\u001b[0m\u001b[1;32m      6\u001b[0m \u001b[0;31m# negative number. Unless you change b's value, code won't work\u001b[0m\u001b[0;34m\u001b[0m\u001b[0;34m\u001b[0m\u001b[0;34m\u001b[0m\u001b[0m\n\u001b[1;32m      7\u001b[0m \u001b[0;34m\u001b[0m\u001b[0m\n",
      "\u001b[0;31mValueError\u001b[0m: math domain error"
     ]
    }
   ],
   "source": [
    "# Ex 5\n",
    "\n",
    "a = 2; b = 1; c = 2\n",
    "from math import sqrt\n",
    "q = sqrt(b*b - 4*a*c)  # The figure under the square root is a\n",
    "# negative number. Unless you change b's value, code won't work\n",
    "\n",
    "x1 = (-b + q)/2*a\n",
    "x2 = (-b - q)/2*a\n",
    "print (x1, x2)  # Brackets are missing\n",
    "\n",
    "\n",
    "\n"
   ]
  },
  {
   "cell_type": "code",
   "execution_count": 16,
   "metadata": {},
   "outputs": [
    {
     "name": "stdout",
     "output_type": "stream",
     "text": [
      "76 Fahrenheit degrees equals 24.44 Celsius degrees\n",
      "True\n"
     ]
    }
   ],
   "source": [
    "# Ex 6\n",
    "\n",
    "\n",
    "def C(F):\n",
    "    C = 5/9*(F-32)\n",
    "    return C\n",
    "\n",
    "F=76\n",
    "print (F, 'Fahrenheit degrees equals', round(C(F),2), 'Celsius degrees')\n",
    "\n",
    "\n",
    "def F(c):\n",
    "    F = 32+9/5*c\n",
    "    return F\n",
    "\n",
    "\n",
    "c=54.89\n",
    "\n",
    "print(c == round(C(F(c)),2)) # The number of decimal rounded should be equal to the value entered for c"
   ]
  },
  {
   "cell_type": "code",
   "execution_count": 18,
   "metadata": {},
   "outputs": [
    {
     "name": "stdout",
     "output_type": "stream",
     "text": [
      "78661\n"
     ]
    }
   ],
   "source": [
    "# Ex 7\n",
    "\n",
    "def __sum(__list): # Create function\n",
    "    isum = 0\n",
    "    for __i in __list: # Install loop to add the numbers in the list\n",
    "        isum = isum + __i\n",
    "    return isum\n",
    "\n",
    "\n",
    "__list = [1, 6, 78654]\n",
    "\n",
    "print(__sum(__list))\n"
   ]
  },
  {
   "cell_type": "code",
   "execution_count": 19,
   "metadata": {},
   "outputs": [
    {
     "name": "stdout",
     "output_type": "stream",
     "text": [
      "Area of triangle is 1.00\n"
     ]
    }
   ],
   "source": [
    "# Ex 8\n",
    "\n",
    "v1 = (0, 0); v2 = (1, 0); v3 = (0, 2)\n",
    "__vertices = [v1, v2, v3]\n",
    "\n",
    "\n",
    "def area(__vertices): # Create function with the formula to calculate an area below\n",
    "    area = 1/2*(v2[0]*v3[1]-v3[0]*v2[1]-v1[0]*v3[1]+v3[0]*v1[1]+v1[0]*v2[1]-v2[0]*v1[1])\n",
    "    return area\n",
    "\n",
    "\n",
    "triangle1 = area(__vertices)\n",
    "print('Area of triangle is %.2f' % triangle1)"
   ]
  },
  {
   "cell_type": "code",
   "execution_count": 20,
   "metadata": {},
   "outputs": [
    {
     "name": "stdout",
     "output_type": "stream",
     "text": [
      "1.4867195147342977e-06\n",
      "0.00013383022576488537\n",
      "0.0044318484119380075\n",
      "0.05399096651318806\n",
      "0.24197072451914337\n",
      "0.3989422804014327\n",
      "0.24197072451914337\n",
      "0.05399096651318806\n",
      "0.0044318484119380075\n",
      "0.00013383022576488537\n",
      "1.4867195147342977e-06\n"
     ]
    }
   ],
   "source": [
    "# Ex 9 \n",
    "\n",
    "import math\n",
    "\n",
    "\n",
    "def __gauss(x, m=0, s=1): # Create function Gauss with given parameters\n",
    "    __gauss = 1/math.sqrt(2*math.pi*s)*math.exp(-1/2*((x-m)/s)**2) # Install formula \n",
    "    return __gauss\n",
    "\n",
    "\n",
    "for x in range(-5, 6):\n",
    "    print(__gauss(x, m=0, s=1))"
   ]
  },
  {
   "cell_type": "code",
   "execution_count": 22,
   "metadata": {},
   "outputs": [
    {
     "name": "stdout",
     "output_type": "stream",
     "text": [
      "[0, 1, 2, 3, 4, 5, 6, 7, 8, 9]\n",
      "n= 0 del 5 [0, 1, 2, 3, 4, 6, 7, 8, 9]\n",
      "n= 1 del 4 [0, 1, 2, 3, 6, 7, 8, 9]\n",
      "n= 2 del 4 [0, 1, 2, 3, 7, 8, 9]\n",
      "n= 3 del 3 [0, 1, 2, 7, 8, 9]\n",
      "n= 8 del 3 [0, 1, 2, 8, 9]\n"
     ]
    }
   ],
   "source": [
    "# Ex 10\n",
    "\n",
    "numbers = list(range(10))\n",
    "print (numbers)\n",
    "# [0, 1, 2, 3, 4, 5, 6, 7, 8, 9]\n",
    "\n",
    "# Numbers from 0 to 9 are attributed to the variable numbers and then printed\n",
    "\n",
    "for n in numbers:\n",
    "    i = int(len(numbers)/2)\n",
    "    del numbers[i]\n",
    "    print('n=', n, 'del', i, numbers)\n",
    "\n",
    "# n=0, del 5 [0, 1, 2, 3, 4, 6, 7, 8, 9]\n",
    "# n=1, del 4 [0, 1, 2, 3, 6, 7, 8, 9]\n",
    "# n=2, del 4 [0, 1, 2, 3, 7, 8, 9]\n",
    "# n=3, del 3 [0, 1, 2, 7, 8, 9]\n",
    "# n=8, del 3 [0, 1, 2, 8, 9]\n",
    "\n",
    "# Here the loop deletes in the list the value equals to the amount of values divided by 2.\n",
    "# If the value in the list doesn't exist anymore it jumps to the next available one. Hence the jump from n=3 to n=8."
   ]
  },
  {
   "cell_type": "code",
   "execution_count": 23,
   "metadata": {},
   "outputs": [
    {
     "ename": "FileNotFoundError",
     "evalue": "File b'density_air.dat' does not exist",
     "output_type": "error",
     "traceback": [
      "\u001b[0;31m---------------------------------------------------------------------------\u001b[0m",
      "\u001b[0;31mFileNotFoundError\u001b[0m                         Traceback (most recent call last)",
      "\u001b[0;32m<ipython-input-23-a8b91298944d>\u001b[0m in \u001b[0;36m<module>\u001b[0;34m\u001b[0m\n\u001b[1;32m      4\u001b[0m \u001b[0;32mimport\u001b[0m \u001b[0mpandas\u001b[0m \u001b[0;32mas\u001b[0m \u001b[0mpd\u001b[0m\u001b[0;34m\u001b[0m\u001b[0;34m\u001b[0m\u001b[0m\n\u001b[1;32m      5\u001b[0m \u001b[0;34m\u001b[0m\u001b[0m\n\u001b[0;32m----> 6\u001b[0;31m \u001b[0mair\u001b[0m \u001b[0;34m=\u001b[0m \u001b[0mpd\u001b[0m\u001b[0;34m.\u001b[0m\u001b[0mread_csv\u001b[0m\u001b[0;34m(\u001b[0m\u001b[0;34m'density_air.dat'\u001b[0m\u001b[0;34m,\u001b[0m\u001b[0mheader\u001b[0m\u001b[0;34m=\u001b[0m\u001b[0;32mNone\u001b[0m\u001b[0;34m,\u001b[0m \u001b[0msep\u001b[0m\u001b[0;34m=\u001b[0m\u001b[0;34m'\\s+'\u001b[0m\u001b[0;34m)\u001b[0m\u001b[0;34m\u001b[0m\u001b[0;34m\u001b[0m\u001b[0m\n\u001b[0m\u001b[1;32m      7\u001b[0m \u001b[0;34m\u001b[0m\u001b[0m\n\u001b[1;32m      8\u001b[0m \u001b[0mair_X\u001b[0m \u001b[0;34m=\u001b[0m \u001b[0mair\u001b[0m\u001b[0;34m.\u001b[0m\u001b[0miloc\u001b[0m\u001b[0;34m[\u001b[0m\u001b[0;36m3\u001b[0m\u001b[0;34m:\u001b[0m\u001b[0;36m12\u001b[0m\u001b[0;34m,\u001b[0m \u001b[0;36m0\u001b[0m\u001b[0;34m]\u001b[0m\u001b[0;34m\u001b[0m\u001b[0;34m\u001b[0m\u001b[0m\n",
      "\u001b[0;32m~/anaconda3/lib/python3.7/site-packages/pandas/io/parsers.py\u001b[0m in \u001b[0;36mparser_f\u001b[0;34m(filepath_or_buffer, sep, delimiter, header, names, index_col, usecols, squeeze, prefix, mangle_dupe_cols, dtype, engine, converters, true_values, false_values, skipinitialspace, skiprows, nrows, na_values, keep_default_na, na_filter, verbose, skip_blank_lines, parse_dates, infer_datetime_format, keep_date_col, date_parser, dayfirst, iterator, chunksize, compression, thousands, decimal, lineterminator, quotechar, quoting, escapechar, comment, encoding, dialect, tupleize_cols, error_bad_lines, warn_bad_lines, skipfooter, doublequote, delim_whitespace, low_memory, memory_map, float_precision)\u001b[0m\n\u001b[1;32m    676\u001b[0m                     skip_blank_lines=skip_blank_lines)\n\u001b[1;32m    677\u001b[0m \u001b[0;34m\u001b[0m\u001b[0m\n\u001b[0;32m--> 678\u001b[0;31m         \u001b[0;32mreturn\u001b[0m \u001b[0m_read\u001b[0m\u001b[0;34m(\u001b[0m\u001b[0mfilepath_or_buffer\u001b[0m\u001b[0;34m,\u001b[0m \u001b[0mkwds\u001b[0m\u001b[0;34m)\u001b[0m\u001b[0;34m\u001b[0m\u001b[0;34m\u001b[0m\u001b[0m\n\u001b[0m\u001b[1;32m    679\u001b[0m \u001b[0;34m\u001b[0m\u001b[0m\n\u001b[1;32m    680\u001b[0m     \u001b[0mparser_f\u001b[0m\u001b[0;34m.\u001b[0m\u001b[0m__name__\u001b[0m \u001b[0;34m=\u001b[0m \u001b[0mname\u001b[0m\u001b[0;34m\u001b[0m\u001b[0;34m\u001b[0m\u001b[0m\n",
      "\u001b[0;32m~/anaconda3/lib/python3.7/site-packages/pandas/io/parsers.py\u001b[0m in \u001b[0;36m_read\u001b[0;34m(filepath_or_buffer, kwds)\u001b[0m\n\u001b[1;32m    438\u001b[0m \u001b[0;34m\u001b[0m\u001b[0m\n\u001b[1;32m    439\u001b[0m     \u001b[0;31m# Create the parser.\u001b[0m\u001b[0;34m\u001b[0m\u001b[0;34m\u001b[0m\u001b[0;34m\u001b[0m\u001b[0m\n\u001b[0;32m--> 440\u001b[0;31m     \u001b[0mparser\u001b[0m \u001b[0;34m=\u001b[0m \u001b[0mTextFileReader\u001b[0m\u001b[0;34m(\u001b[0m\u001b[0mfilepath_or_buffer\u001b[0m\u001b[0;34m,\u001b[0m \u001b[0;34m**\u001b[0m\u001b[0mkwds\u001b[0m\u001b[0;34m)\u001b[0m\u001b[0;34m\u001b[0m\u001b[0;34m\u001b[0m\u001b[0m\n\u001b[0m\u001b[1;32m    441\u001b[0m \u001b[0;34m\u001b[0m\u001b[0m\n\u001b[1;32m    442\u001b[0m     \u001b[0;32mif\u001b[0m \u001b[0mchunksize\u001b[0m \u001b[0;32mor\u001b[0m \u001b[0miterator\u001b[0m\u001b[0;34m:\u001b[0m\u001b[0;34m\u001b[0m\u001b[0;34m\u001b[0m\u001b[0m\n",
      "\u001b[0;32m~/anaconda3/lib/python3.7/site-packages/pandas/io/parsers.py\u001b[0m in \u001b[0;36m__init__\u001b[0;34m(self, f, engine, **kwds)\u001b[0m\n\u001b[1;32m    785\u001b[0m             \u001b[0mself\u001b[0m\u001b[0;34m.\u001b[0m\u001b[0moptions\u001b[0m\u001b[0;34m[\u001b[0m\u001b[0;34m'has_index_names'\u001b[0m\u001b[0;34m]\u001b[0m \u001b[0;34m=\u001b[0m \u001b[0mkwds\u001b[0m\u001b[0;34m[\u001b[0m\u001b[0;34m'has_index_names'\u001b[0m\u001b[0;34m]\u001b[0m\u001b[0;34m\u001b[0m\u001b[0;34m\u001b[0m\u001b[0m\n\u001b[1;32m    786\u001b[0m \u001b[0;34m\u001b[0m\u001b[0m\n\u001b[0;32m--> 787\u001b[0;31m         \u001b[0mself\u001b[0m\u001b[0;34m.\u001b[0m\u001b[0m_make_engine\u001b[0m\u001b[0;34m(\u001b[0m\u001b[0mself\u001b[0m\u001b[0;34m.\u001b[0m\u001b[0mengine\u001b[0m\u001b[0;34m)\u001b[0m\u001b[0;34m\u001b[0m\u001b[0;34m\u001b[0m\u001b[0m\n\u001b[0m\u001b[1;32m    788\u001b[0m \u001b[0;34m\u001b[0m\u001b[0m\n\u001b[1;32m    789\u001b[0m     \u001b[0;32mdef\u001b[0m \u001b[0mclose\u001b[0m\u001b[0;34m(\u001b[0m\u001b[0mself\u001b[0m\u001b[0;34m)\u001b[0m\u001b[0;34m:\u001b[0m\u001b[0;34m\u001b[0m\u001b[0;34m\u001b[0m\u001b[0m\n",
      "\u001b[0;32m~/anaconda3/lib/python3.7/site-packages/pandas/io/parsers.py\u001b[0m in \u001b[0;36m_make_engine\u001b[0;34m(self, engine)\u001b[0m\n\u001b[1;32m   1012\u001b[0m     \u001b[0;32mdef\u001b[0m \u001b[0m_make_engine\u001b[0m\u001b[0;34m(\u001b[0m\u001b[0mself\u001b[0m\u001b[0;34m,\u001b[0m \u001b[0mengine\u001b[0m\u001b[0;34m=\u001b[0m\u001b[0;34m'c'\u001b[0m\u001b[0;34m)\u001b[0m\u001b[0;34m:\u001b[0m\u001b[0;34m\u001b[0m\u001b[0;34m\u001b[0m\u001b[0m\n\u001b[1;32m   1013\u001b[0m         \u001b[0;32mif\u001b[0m \u001b[0mengine\u001b[0m \u001b[0;34m==\u001b[0m \u001b[0;34m'c'\u001b[0m\u001b[0;34m:\u001b[0m\u001b[0;34m\u001b[0m\u001b[0;34m\u001b[0m\u001b[0m\n\u001b[0;32m-> 1014\u001b[0;31m             \u001b[0mself\u001b[0m\u001b[0;34m.\u001b[0m\u001b[0m_engine\u001b[0m \u001b[0;34m=\u001b[0m \u001b[0mCParserWrapper\u001b[0m\u001b[0;34m(\u001b[0m\u001b[0mself\u001b[0m\u001b[0;34m.\u001b[0m\u001b[0mf\u001b[0m\u001b[0;34m,\u001b[0m \u001b[0;34m**\u001b[0m\u001b[0mself\u001b[0m\u001b[0;34m.\u001b[0m\u001b[0moptions\u001b[0m\u001b[0;34m)\u001b[0m\u001b[0;34m\u001b[0m\u001b[0;34m\u001b[0m\u001b[0m\n\u001b[0m\u001b[1;32m   1015\u001b[0m         \u001b[0;32melse\u001b[0m\u001b[0;34m:\u001b[0m\u001b[0;34m\u001b[0m\u001b[0;34m\u001b[0m\u001b[0m\n\u001b[1;32m   1016\u001b[0m             \u001b[0;32mif\u001b[0m \u001b[0mengine\u001b[0m \u001b[0;34m==\u001b[0m \u001b[0;34m'python'\u001b[0m\u001b[0;34m:\u001b[0m\u001b[0;34m\u001b[0m\u001b[0;34m\u001b[0m\u001b[0m\n",
      "\u001b[0;32m~/anaconda3/lib/python3.7/site-packages/pandas/io/parsers.py\u001b[0m in \u001b[0;36m__init__\u001b[0;34m(self, src, **kwds)\u001b[0m\n\u001b[1;32m   1706\u001b[0m         \u001b[0mkwds\u001b[0m\u001b[0;34m[\u001b[0m\u001b[0;34m'usecols'\u001b[0m\u001b[0;34m]\u001b[0m \u001b[0;34m=\u001b[0m \u001b[0mself\u001b[0m\u001b[0;34m.\u001b[0m\u001b[0musecols\u001b[0m\u001b[0;34m\u001b[0m\u001b[0;34m\u001b[0m\u001b[0m\n\u001b[1;32m   1707\u001b[0m \u001b[0;34m\u001b[0m\u001b[0m\n\u001b[0;32m-> 1708\u001b[0;31m         \u001b[0mself\u001b[0m\u001b[0;34m.\u001b[0m\u001b[0m_reader\u001b[0m \u001b[0;34m=\u001b[0m \u001b[0mparsers\u001b[0m\u001b[0;34m.\u001b[0m\u001b[0mTextReader\u001b[0m\u001b[0;34m(\u001b[0m\u001b[0msrc\u001b[0m\u001b[0;34m,\u001b[0m \u001b[0;34m**\u001b[0m\u001b[0mkwds\u001b[0m\u001b[0;34m)\u001b[0m\u001b[0;34m\u001b[0m\u001b[0;34m\u001b[0m\u001b[0m\n\u001b[0m\u001b[1;32m   1709\u001b[0m \u001b[0;34m\u001b[0m\u001b[0m\n\u001b[1;32m   1710\u001b[0m         \u001b[0mpassed_names\u001b[0m \u001b[0;34m=\u001b[0m \u001b[0mself\u001b[0m\u001b[0;34m.\u001b[0m\u001b[0mnames\u001b[0m \u001b[0;32mis\u001b[0m \u001b[0;32mNone\u001b[0m\u001b[0;34m\u001b[0m\u001b[0;34m\u001b[0m\u001b[0m\n",
      "\u001b[0;32mpandas/_libs/parsers.pyx\u001b[0m in \u001b[0;36mpandas._libs.parsers.TextReader.__cinit__\u001b[0;34m()\u001b[0m\n",
      "\u001b[0;32mpandas/_libs/parsers.pyx\u001b[0m in \u001b[0;36mpandas._libs.parsers.TextReader._setup_parser_source\u001b[0;34m()\u001b[0m\n",
      "\u001b[0;31mFileNotFoundError\u001b[0m: File b'density_air.dat' does not exist"
     ]
    }
   ],
   "source": [
    "# Ex 11\n",
    "\n",
    "import matplotlib.pyplot as plt\n",
    "import pandas as pd\n",
    "\n",
    "air = pd.read_csv('density_air.dat',header=None, sep='\\s+') #Import file \n",
    "\n",
    "air_X = air.iloc[3:12, 0]\n",
    "air_Y = air.iloc[3:12, 1]\n",
    "\n",
    "air_x = [float(i) for i in air_X]\n",
    "air_y = [float(i) for i in air_Y]\n",
    "\n",
    "plt.plot(air_x, air_y, 'bo', markersize=2)\n",
    "plt.ylim([1.15, 1.4])\n",
    "plt.xlabel('Air Temperature in Celsius degrees')\n",
    "plt.ylabel('Air Density in kg/m3')\n",
    "plt.title('Air Density when Temperature increases')\n",
    "plt.show()\n",
    "\n",
    "\n",
    "water = pd.read_csv('density_water.dat', header=None, sep='\\s+')\n",
    "\n",
    "water_X = water.iloc[3:11, 0]\n",
    "water_Y = water.iloc[3:11, 1]\n",
    "\n",
    "water_x = [float(i) for i in water_X]\n",
    "water_y = [float(i) for i in water_Y]\n",
    "\n",
    "plt.plot(water_x, water_y, 'bo', markersize=2)\n",
    "plt.ylim([955, 1010])\n",
    "plt.xlabel('Air Temperature in Celsius degrees')\n",
    "plt.ylabel('Air Density in kg/m3')\n",
    "plt.title('Air Density when Temperature increases')\n",
    "plt.show()\n"
   ]
  },
  {
   "cell_type": "code",
   "execution_count": null,
   "metadata": {},
   "outputs": [],
   "source": []
  }
 ],
 "metadata": {
  "kernelspec": {
   "display_name": "Python 3",
   "language": "python",
   "name": "python3"
  },
  "language_info": {
   "codemirror_mode": {
    "name": "ipython",
    "version": 3
   },
   "file_extension": ".py",
   "mimetype": "text/x-python",
   "name": "python",
   "nbconvert_exporter": "python",
   "pygments_lexer": "ipython3",
   "version": "3.7.1"
  }
 },
 "nbformat": 4,
 "nbformat_minor": 2
}
