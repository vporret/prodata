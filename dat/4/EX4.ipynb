{
 "cells": [
  {
   "cell_type": "code",
   "execution_count": 1,
   "metadata": {},
   "outputs": [
    {
     "name": "stdout",
     "output_type": "stream",
     "text": [
      "a)    0.9031\n",
      "b)    0.9459\n",
      "c)    0.9215\n"
     ]
    }
   ],
   "source": [
    "#Exercise 4\n",
    "import numpy as np\n",
    "from math import exp\n",
    "\n",
    "def ann(x1, x2):\n",
    "\n",
    "    X = np.array([[x1], [x2]])\n",
    "    W01 = np.array([[0.1], [-0.2]])\n",
    "    W1= np.array([[0.5, -0.4], [0.7, 0.8]])\n",
    "\n",
    "    W02 = np.array([[-1.0], [0.8]])\n",
    "    W2 = np.array([[0.9, -0.7], [0.4, 1.0]])\n",
    "\n",
    "    W03 = np.array([[0.8]])\n",
    "    W3 = np.array([[-0.5, 0.3]])\n",
    "\n",
    "    a2 = W01 + W1.dot(X)\n",
    "    a3 = W02 + W2.dot(a2)\n",
    "    a4 = W03 + W3.dot(a3)\n",
    "    y = 1/(1+exp(-a4))\n",
    "    return y\n",
    "\n",
    "\n",
    "a = ann(0.7, 1)\n",
    "b = ann(-0.5, 2.5)\n",
    "c = ann(-3.0, 3.0)\n",
    "print(\"a)    {0:.4f}\".format(a))\n",
    "print(\"b)    {0:.4f}\".format(b))\n",
    "print(\"c)    {0:.4f}\".format(c))\n",
    "\n",
    "\n"
   ]
  },
  {
   "cell_type": "code",
   "execution_count": null,
   "metadata": {},
   "outputs": [],
   "source": []
  }
 ],
 "metadata": {
  "kernelspec": {
   "display_name": "Python 3",
   "language": "python",
   "name": "python3"
  },
  "language_info": {
   "codemirror_mode": {
    "name": "ipython",
    "version": 3
   },
   "file_extension": ".py",
   "mimetype": "text/x-python",
   "name": "python",
   "nbconvert_exporter": "python",
   "pygments_lexer": "ipython3",
   "version": "3.6.8"
  }
 },
 "nbformat": 4,
 "nbformat_minor": 2
}
