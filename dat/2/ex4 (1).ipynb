{
 "cells": [
  {
   "cell_type": "code",
   "execution_count": 1,
   "metadata": {},
   "outputs": [
    {
     "name": "stdout",
     "output_type": "stream",
     "text": [
      "                          Content  Category\n",
      "d1            ball goal cart goal    Sports\n",
      "d2             theater cart drama   Culture\n",
      "d3  drama strategy decision drama  Politics\n",
      "d4                   theater ball   Culture\n",
      "d5      ball goal player strategy    Sports\n",
      "d6             theater cart opera   Culture\n",
      "\n",
      "---------------------------------\n",
      "                  Content Category\n",
      "d7   ball player strategy        ?\n",
      "d8  theater cart decision        ?\n",
      "\n",
      "---------------------------------\n",
      "\n",
      "\n",
      "Table : \n",
      "   ball goal cart theater drama strategy decision player opera  Category\n",
      "d1    1    2    1       0     0        0        0      0     0    Sports\n",
      "d2    0    0    1       1     1        0        0      0     0   Culture\n",
      "d3    0    0    0       0     2        1        1      0     0  Politics\n",
      "d4    1    0    0       1     0        0        0      0     0   Culture\n",
      "d5    1    1    0       0     0        1        0      1     0    Sports\n",
      "d6    0    0    1       1     0        0        0      0     1   Culture\n"
     ]
    }
   ],
   "source": [
    "\n",
    "%reset -f\n",
    "\n",
    "import numpy as np\n",
    "import pandas as pd\n",
    "\n",
    "Doc = [\"d1\",\"d2\",\"d3\", \"d4\",\"d5\",\"d6\"]\n",
    "Title = [\"Content\", \"Category\"]\n",
    "Category = [\"Sports\", \"Culture\", \"Politics\", \"Culture\", \"Sports\", \"Culture\"]\n",
    "Number = [1,0,0,1,1,0], [2,0,0,0,1,0], [1,1,0,0,0,1],[0,1,0,1,0,1],\\\n",
    "                  [0,1,2,0,0,0],[0,0,1,0,1,0], [0,0,1,0,0,0],[0,0,0,0,1,0],[0,0,0,0,0,1]\n",
    "\n",
    "dftrain = pd.DataFrame(data=np.array([[\"ball goal cart goal\", \n",
    "                                      \"theater cart drama\", \n",
    "                                      \"drama strategy decision drama\", \n",
    "                                      \"theater ball\", \n",
    "                                      \"ball goal player strategy\", \n",
    "                                      \"theater cart opera\"], \n",
    "                                     Category]))\n",
    "dftrain = dftrain.T\n",
    "dftrain.columns = Title\n",
    "dftrain.index = Doc\n",
    "print(dftrain)\n",
    "\n",
    "print(\"\\n---------------------------------\")\n",
    "\n",
    "dftest = pd.DataFrame(data=np.array([[\"ball player strategy\",\"theater cart decision\"], [\"?\", \"?\"]]))\n",
    "dftest = dftest.T\n",
    "dftest.columns= Title\n",
    "dftest.index = [\"d7\", \"d8\"]\n",
    "print(dftest)\n",
    "print(\"\\n---------------------------------\\n\\n\\nTable : \")\n",
    "\n",
    "\n",
    "bag_of_word = pd.DataFrame(data=np.array([[1,0,0,1,1,0],\n",
    "                                          [2,0,0,0,1,0],\n",
    "                                          [1,1,0,0,0,1],\n",
    "                                          [0,1,0,1,0,1],\n",
    "                                          [0,1,2,0,0,0],\n",
    "                                          [0,0,1,0,1,0],\n",
    "                                          [0,0,1,0,0,0],\n",
    "                                          [0,0,0,0,1,0],\n",
    "                                          [0,0,0,0,0,1],\n",
    "                                          Category]))\n",
    "bag_of_word = bag_of_word.T\n",
    "\n",
    "bag_of_word.columns = [\"ball\",\"goal\",\"cart\",\"theater\",\"drama\",\"strategy\",\"decision\",\"player\",\"opera\", \"Category\"]\n",
    "bag_of_word.index = Doc\n",
    "print(bag_of_word)\n"
   ]
  },
  {
   "cell_type": "markdown",
   "metadata": {},
   "source": [
    "B) Probability of the category :     \n",
    "As done in the lecture :"
   ]
  },
  {
   "cell_type": "code",
   "execution_count": 38,
   "metadata": {},
   "outputs": [],
   "source": [
    "\n",
    "# P[Sports] = 2/6\n",
    "# P[Culture] = 3/6\n",
    "# P[Politics] = 1/6\n",
    "\n",
    "\n",
    "    "
   ]
  },
  {
   "cell_type": "markdown",
   "metadata": {},
   "source": [
    "Probability of the category \"Sports\" knowing the word:"
   ]
  },
  {
   "cell_type": "code",
   "execution_count": null,
   "metadata": {},
   "outputs": [],
   "source": [
    "\n",
    "# P[ball|Sports] = 0.25\n",
    "# P[goal|Sports] = 0.375\n",
    "# P[cart|Sports] = 0.125\n",
    "# P[strategy|Sports] = 0.125\n",
    "# P[player|Sports] = 0.125\n"
   ]
  },
  {
   "cell_type": "markdown",
   "metadata": {},
   "source": [
    "Probability of the category \"Culture\" knowing the word:"
   ]
  },
  {
   "cell_type": "code",
   "execution_count": 40,
   "metadata": {},
   "outputs": [],
   "source": [
    "\n",
    "# P[ball|Culture] = 0.125\n",
    "# P[cart|Culture] = 0.25\n",
    "# P[theater|Culture] = 0.375\n",
    "# P[drama|Culture] = 0.125\n",
    "# P[opera|Culture] = 0.125\n"
   ]
  },
  {
   "cell_type": "markdown",
   "metadata": {},
   "source": [
    "Probability of the category \"Culture\" knowing the word:"
   ]
  },
  {
   "cell_type": "code",
   "execution_count": 39,
   "metadata": {},
   "outputs": [],
   "source": [
    "\n",
    "# P[drama|Politics] = 0.5\n",
    "# P[strategy|Politics] = 0.25\n",
    "# P[opera|Politics] = 0.25\n"
   ]
  },
  {
   "cell_type": "markdown",
   "metadata": {},
   "source": [
    " C ) Based on the training set : "
   ]
  },
  {
   "cell_type": "code",
   "execution_count": 69,
   "metadata": {},
   "outputs": [
    {
     "name": "stdout",
     "output_type": "stream",
     "text": [
      "Classification of d7 : \n",
      "Sports =  0.001 %\n",
      "Culture =  0.0 %\n",
      "Politics =  0.0 %\n",
      "----> Sports\n",
      "\n",
      "Classification of d8 : \n",
      "Sports =  0.0 %\n",
      "Culture =  0.0005 %\n",
      "Politics =  0.0 %\n",
      "----> Culture\n"
     ]
    }
   ],
   "source": [
    "# remark : When the probability is 0, we took the limit of 0 = 0.001 to get a result for d7 and d8\n",
    "\n",
    "# probability for d7 : \n",
    "print(\"Classification of d7 : \")\n",
    "d7sports = (0.25*0.125*0.001)*2/6;  print(\"Sports = \", round(d7sports*100,4), \"%\")\n",
    "d7culture = (0.125*0.001*0.001)*3/6;  print(\"Culture = \", round(d7culture*100,4), \"%\")\n",
    "d7politics = (0.001*0.001*0.25)*1/6;  print(\"Politics = \", round(d7politics*100,4), \"%\")\n",
    "print(\"----> Sports\\n\")\n",
    "\n",
    "# probability for d8 : \n",
    "print(\"Classification of d8 : \")\n",
    "d8sports = (0.01*0.125*0.001)*2/6;  print(\"Sports = \", round(d8sports*100,4), \"%\")\n",
    "d8culture = (0.375*0.025*0.001)*3/6;  print(\"Culture = \", round(d8culture*100,4), \"%\")\n",
    "d8politics = (0.001*0.001*0.001)*1/6;  print(\"Politics = \", round(d8politics*100,4), \"%\")\n",
    "print(\"----> Culture\")\n"
   ]
  },
  {
   "cell_type": "code",
   "execution_count": null,
   "metadata": {},
   "outputs": [],
   "source": []
  }
 ],
 "metadata": {
  "kernelspec": {
   "display_name": "Python 3",
   "language": "python",
   "name": "python3"
  },
  "language_info": {
   "codemirror_mode": {
    "name": "ipython",
    "version": 3
   },
   "file_extension": ".py",
   "mimetype": "text/x-python",
   "name": "python",
   "nbconvert_exporter": "python",
   "pygments_lexer": "ipython3",
   "version": "3.6.8"
  }
 },
 "nbformat": 4,
 "nbformat_minor": 2
}
